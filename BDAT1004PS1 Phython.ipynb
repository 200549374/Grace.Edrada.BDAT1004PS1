{
 "cells": [
  {
   "cell_type": "markdown",
   "id": "3c28a01a",
   "metadata": {},
   "source": [
    "Question 6 Python\n",
    "16. You can turn a word into pig-Latin using the following two rules (simplified):\n",
    "• If the word starts with a consonant, move that letter to the end and append \n",
    "'ay'. For example, 'happy' becomes 'appyhay' and 'pencil' becomes 'encilpay'.\n",
    "• If the word starts with a vowel, simply append 'way' to the end of the word. \n",
    "For example, 'enter' becomes 'enterway' and 'other' becomes 'otherway' . For \n",
    "our purposes, there are 5 vowels: a, e, i, o, u (so we count y as a consonant).\n",
    "Write a function pig() that takes a word (i.e., a string) as input and returns its pig\u0002Latin form. Your function should still work if the input word contains upper case \n",
    "characters. Your output should always be lower case however"
   ]
  },
  {
   "cell_type": "code",
   "execution_count": 1,
   "id": "c8e0bfb2",
   "metadata": {},
   "outputs": [
    {
     "name": "stdout",
     "output_type": "stream",
     "text": [
      "appyhay\n",
      "enterway\n"
     ]
    }
   ],
   "source": [
    "def pig(word):\n",
    "    word = word.lower()\n",
    "    \n",
    "    if word[0] in ['a', 'e', 'i', 'o', 'u']:\n",
    "        return word + 'way'\n",
    "    else:\n",
    "        for i, letter in enumerate(word):\n",
    "            if letter in ['a', 'e', 'i', 'o', 'u']:\n",
    "                return word[i:] + word[:i] + 'ay'\n",
    "\n",
    "# Test the function\n",
    "word1 = \"happy\"\n",
    "word2 = \"Enter\"\n",
    "\n",
    "print(pig(word1))  # Output: 'appyhay'\n",
    "print(pig(word2))  # Output: 'enterway'"
   ]
  },
  {
   "cell_type": "markdown",
   "id": "9daf319b",
   "metadata": {},
   "source": [
    "Question 7 Python\n",
    "File bloodtype1.txt records blood-types of patients (A, B, AB, O or OO) at a clinic. \n",
    "Write a function bldcount() that reads the file with name name and reports (i.e., \n",
    "prints) how many patients there are in each bloodtype."
   ]
  },
  {
   "cell_type": "code",
   "execution_count": 3,
   "id": "a3c22f11",
   "metadata": {},
   "outputs": [
    {
     "name": "stdout",
     "output_type": "stream",
     "text": [
      "There are 10 patients of blood type A.\n",
      "There is one patient of blood type B.\n",
      "There are 10 patients of blood type AB.\n",
      "There are 12 patients of blood type O.\n",
      "There are no patients of blood type OO.\n"
     ]
    }
   ],
   "source": [
    "def bldcount(filename):\n",
    "    blood_type_count = {\n",
    "        'A': 0,\n",
    "        'B': 0,\n",
    "        'AB': 0,\n",
    "        'O': 0,\n",
    "        'OO': 0\n",
    "    }\n",
    "\n",
    "    with open(filename, 'r') as file:\n",
    "        for line in file:\n",
    "            blood_type = line.strip()\n",
    "            if blood_type in blood_type_count:\n",
    "                blood_type_count[blood_type] += 1\n",
    "\n",
    "    for blood_type, count in blood_type_count.items():\n",
    "        if count == 1:\n",
    "            print(f\"There is one patient of blood type {blood_type}.\")\n",
    "        elif count > 1:\n",
    "            print(f\"There are {count} patients of blood type {blood_type}.\")\n",
    "        else:\n",
    "            print(f\"There are no patients of blood type {blood_type}.\")\n",
    "\n",
    "# Example usage\n",
    "bldcount('bloodtype.txt')"
   ]
  },
  {
   "cell_type": "markdown",
   "id": "6f1e42a0",
   "metadata": {},
   "source": [
    "Question 8 Python\n",
    "Write a function curconv() that takes as input:\n",
    "1. a currency represented using a string (e.g., 'JPY' for the Japanese Yen or \n",
    "'EUR' for the Euro)\n",
    "2. an amount\n",
    "and then converts and returns the amount in US dollars."
   ]
  },
  {
   "cell_type": "code",
   "execution_count": 2,
   "id": "52c260ed",
   "metadata": {},
   "outputs": [
    {
     "name": "stdout",
     "output_type": "stream",
     "text": [
      "122.96544\n",
      "1.241401\n"
     ]
    }
   ],
   "source": [
    "def curconv(currency, amount):\n",
    "    with open('currencies.txt', 'r') as file:\n",
    "        currency_rates = {}\n",
    "        for line in file:\n",
    "            parts = line.split()\n",
    "            currency_code = parts[0]\n",
    "            rate = float(parts[1])\n",
    "            currency_rates[currency_code] = rate\n",
    "    \n",
    "    if currency in currency_rates:\n",
    "        conversion_rate = currency_rates[currency]\n",
    "        converted_amount = amount * conversion_rate\n",
    "        return converted_amount\n",
    "    else:\n",
    "        return \"Currency not found in the currency rates file.\"\n",
    "\n",
    "# Test cases\n",
    "print(curconv('EUR', 100))  # Should print 122.96544\n",
    "print(curconv('JPY', 100))  # Should print 1.241401"
   ]
  },
  {
   "cell_type": "markdown",
   "id": "7a9960bf",
   "metadata": {},
   "source": [
    "Question 9 Python\n",
    "Each of the following will cause an exception (an error). Identify what type of exception each will cause.\n",
    "\n",
    "Trying to add incompatible variables, as in adding 6 + ‘a’           : TypeError\n",
    "\n",
    "Referring to the 12th item of a list that has only 10 items          : IndexError\n",
    "\n",
    "Using a value that is out of range for a function’s input,\n",
    "such as calling math.sqrt(-1.0)                                      : ValueError\n",
    "\n",
    "Using an undeclared variable, such as print(x)\n",
    "when x has not been defined                                          : NameError\n",
    "\n",
    "Trying to open a file that does not exist,\n",
    "such as mistyping the file name or looking in the wrong directory    : FileNotFoundError"
   ]
  },
  {
   "cell_type": "markdown",
   "id": "a70bfa62",
   "metadata": {},
   "source": [
    "Question 10\n",
    "Encryption is the process of hiding the meaning of a text by substituting letters in the \n",
    "message with other letters, according to some system. If the process is successful, no \n",
    "one but the intended recipient can understand the encrypted message. Cryptanalysis\n",
    "refers to attempts to undo the encryption, even if some details of the encryption are \n",
    "unknown (for example, if an encrypted message has been intercepted). The first step \n",
    "of cryptanalysis is often to build up a table of letter frequencies in the encrypted text. \n",
    "Assume that the string letters is already defined as \n",
    "'abcdefghijklmnopqrstuvwxyz'. Write a function called frequencies()\n",
    "that takes a string as its only parameter, and returns a list of integers, showing the \n",
    "number of times each character appears in the text. Your function may ignore any \n",
    "characters that are not in letters."
   ]
  },
  {
   "cell_type": "code",
   "execution_count": 4,
   "id": "25498ffd",
   "metadata": {},
   "outputs": [
    {
     "name": "stdout",
     "output_type": "stream",
     "text": [
      "1, 1, 1, 3, 5, 1, 1, 2, 1, 0, 1, 0, 1, 2, 4, 0, 1, 2, 0, 3, 1, 0, 1, 1, 0, 0\n"
     ]
    }
   ],
   "source": [
    "def frequencies(text):\n",
    "    letters = 'abcdefghijklmnopqrstuvwxyz'\n",
    "    letter_counts = [0] * 26\n",
    "\n",
    "    text = text.lower()\n",
    "\n",
    "    for char in text:\n",
    "        if char in letters:\n",
    "            index = letters.index(char)\n",
    "            letter_counts[index] += 1\n",
    "\n",
    "    return letter_counts\n",
    "\n",
    "input_text = 'The quick red fox got bored and went home.'\n",
    "result = frequencies(input_text)\n",
    "  \n",
    "result_str = \"\"\n",
    "\n",
    "for letter, count in zip('abcdefghijklmnopqrstuvwxyz', result):\n",
    "    result_str += f\"{count}, \"\n",
    "\n",
    "result_str = result_str.rstrip(', ')\n",
    "print(result_str)"
   ]
  }
 ],
 "metadata": {
  "kernelspec": {
   "display_name": "Python 3 (ipykernel)",
   "language": "python",
   "name": "python3"
  },
  "language_info": {
   "codemirror_mode": {
    "name": "ipython",
    "version": 3
   },
   "file_extension": ".py",
   "mimetype": "text/x-python",
   "name": "python",
   "nbconvert_exporter": "python",
   "pygments_lexer": "ipython3",
   "version": "3.11.5"
  }
 },
 "nbformat": 4,
 "nbformat_minor": 5
}
