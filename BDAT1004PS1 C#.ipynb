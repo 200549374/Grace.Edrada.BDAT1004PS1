{
 "cells": [
  {
   "cell_type": "markdown",
   "id": "a3a832d3",
   "metadata": {},
   "source": [
    "Question 1. C#\n",
    "What data type is each of the following?\n",
    "\n",
    "5                 : int (integer)\n",
    "5.0               : double (floating-point)\n",
    "5 > 1             : bool (boolean)\n",
    "'5'               : char (character)\n",
    "5 * 2             : int (integer)\n",
    "'5' * 2           : int (integer)\n",
    "'5' + '2'         : int (integer)\n",
    "5 / 2             : int (integer)\n",
    "5 % 2             : int (integer)\n",
    "{5, 2, 1}         : array\n",
    "5 == 3            : bool (boolean)\n",
    "Pi (the number)   : double (floating-point)"
   ]
  },
  {
   "cell_type": "markdown",
   "id": "3d01ecf8",
   "metadata": {},
   "source": [
    "Question 2. C#\n",
    "Write (and evaluate) C# expressions that answer these questions"
   ]
  },
  {
   "cell_type": "markdown",
   "id": "a1f64b32",
   "metadata": {},
   "source": [
    "a. How many letters are there in 'Supercalifragilisticexpialidocious'?"
   ]
  },
  {
   "cell_type": "code",
   "execution_count": 9,
   "id": "80e6c992",
   "metadata": {},
   "outputs": [
    {
     "name": "stdout",
     "output_type": "stream",
     "text": [
      "Number of letters : 34\r\n"
     ]
    }
   ],
   "source": [
    "string wordString = \"Supercalifragilisticexpialidocious\";\n",
    "int letterCount = wordString.Count(char.IsLetter);\n",
    "    \n",
    "Console.WriteLine(\"Number of letters : \" + letterCount);"
   ]
  },
  {
   "cell_type": "markdown",
   "id": "e81bade5",
   "metadata": {},
   "source": [
    "b. Does 'Supercalifragilisticexpialidocious' contain 'ice' as a substring?"
   ]
  },
  {
   "cell_type": "code",
   "execution_count": 6,
   "id": "4ba9da6d",
   "metadata": {},
   "outputs": [
    {
     "name": "stdout",
     "output_type": "stream",
     "text": [
      "Yes.\r\n"
     ]
    }
   ],
   "source": [
    "string wordString = \"Supercalifragilisticexpialidocious\";\n",
    "string subString = \"ice\";\n",
    "\n",
    "    bool containsIce = wordString.Contains(subString);\n",
    "    \n",
    "    if (containsIce)\n",
    "    {\n",
    "        Console.WriteLine(\"Yes.\");\n",
    "    }\n",
    "    \n",
    "    else\n",
    "    {\n",
    "       Console.WriteLine(\"No.\");\n",
    "    }"
   ]
  },
  {
   "cell_type": "markdown",
   "id": "6f37e1d2",
   "metadata": {},
   "source": [
    "c. Which of the following words is the longest:\n",
    "Supercalifragilisticexpialidocious, Honorificabilitudinitatibus, or Bababadalgharaghtakamminarronnkonn?"
   ]
  },
  {
   "cell_type": "code",
   "execution_count": 12,
   "id": "e9cbbc44",
   "metadata": {},
   "outputs": [
    {
     "name": "stdout",
     "output_type": "stream",
     "text": [
      "The longest word is : Bababadalgharaghtakamminarronnkonn\r\n"
     ]
    }
   ],
   "source": [
    "string word1 = \"Supercalifragilisticexpialidocious\";\n",
    "string word2 = \"Honorificabilitudinitatibus\";\n",
    "string word3 = \"Bababadalgharaghtakamminarronnkonn\";\n",
    "\n",
    "int length1 = word1.Length;\n",
    "int length2 = word2.Length;\n",
    "int length3 = word3.Length;\n",
    "\n",
    "    if (length1 > length2 && length2 > length3)\n",
    "    {\n",
    "        Console.WriteLine(\"The longest word is : \" + word1);\n",
    "    }\n",
    "    \n",
    "    else if (length2 > length1 && length2 > length3)\n",
    "    {\n",
    "        Console.WriteLine(\"The longest word is : \" + word2);\n",
    "    }\n",
    "    \n",
    "    else \n",
    "    {\n",
    "        Console.WriteLine(\"The longest word is : \" + word3);\n",
    "    }"
   ]
  },
  {
   "cell_type": "markdown",
   "id": "7e1fbcf7",
   "metadata": {},
   "source": [
    "d. Which composer comes first in the dictionary:\n",
    "'Berlioz', 'Borodin', 'Brian', 'Bartok', 'Bellini', 'Buxtehude', 'Bernstein'.\n",
    "Which one comes last?"
   ]
  },
  {
   "cell_type": "code",
   "execution_count": 14,
   "id": "dcee4543",
   "metadata": {},
   "outputs": [
    {
     "name": "stdout",
     "output_type": "stream",
     "text": [
      "The first composer is : Bartok\n",
      "The last composer is : Buxtehude\n"
     ]
    }
   ],
   "source": [
    "string [] composers = { \"Berlioz\", \"Borodin\", \"Brian\", \"Bartok\", \"Bellini\", \"Buxtehude\", \"Bernstein\" };\n",
    "\n",
    "Array.Sort(composers);\n",
    "\n",
    "    string firstComposer = composers[0];\n",
    "    string lastComposer = composers[composers.Length - 1];\n",
    "    \n",
    "    Console.WriteLine($\"The first composer is : {firstComposer}\");\n",
    "    Console.WriteLine($\"The last composer is : {lastComposer}\");"
   ]
  },
  {
   "cell_type": "markdown",
   "id": "cf8eac43",
   "metadata": {},
   "source": [
    "Question 3 C#\n",
    "Implement function triangleArea(a,b,c) that takes as input the lengths of the 3 sides of a triangle and returns the area of the triangle.\n",
    "By Heron's formula, the area of a triangle with side lengths a, b, and c is square root of s(s - a)(s -b)(s -c) , where s = (a+b+c)/2."
   ]
  },
  {
   "cell_type": "code",
   "execution_count": 16,
   "id": "b1368961",
   "metadata": {},
   "outputs": [
    {
     "name": "stdout",
     "output_type": "stream",
     "text": [
      "The area of the triangle is: 1.7320508075688772\r\n"
     ]
    }
   ],
   "source": [
    "double a = 2.0;\n",
    "double b = 2.0;\n",
    "double c = 2.0;\n",
    "\n",
    "double area = TriangleArea(a, b, c);\n",
    "\n",
    "Console.WriteLine($\"The area of the triangle is: {area}\");\n",
    "    \n",
    "    static double TriangleArea(double a, double b, double c)\n",
    "    {\n",
    "        // Calculate the semi-perimeter\n",
    "        double s = (a + b + c) / 2.0;\n",
    "\n",
    "        // Calculate the area using Heron's formula\n",
    "        double area = Math.Sqrt(s * (s - a) * (s - b) * (s - c));\n",
    "\n",
    "        return area;\n",
    "    }"
   ]
  },
  {
   "cell_type": "markdown",
   "id": "b873a604",
   "metadata": {},
   "source": [
    "Question 4 C#\n",
    "Write a program in C# Sharp to separate odd and even integers in separate arrays. \n",
    "Go to the editor\n",
    "Test Data :\n",
    "Input the number of elements to be stored in the array :5\n",
    "Input 5 elements in the array :\n",
    "element - 0 : 25\n",
    "element - 1 : 47\n",
    "element - 2 : 42\n",
    "element - 3 : 56\n",
    "element - 4 : 32"
   ]
  },
  {
   "cell_type": "code",
   "execution_count": 17,
   "id": "738fed1a",
   "metadata": {},
   "outputs": [
    {
     "name": "stdout",
     "output_type": "stream",
     "text": [
      "The Even elements are:\n",
      "42\n",
      "56\n",
      "32\n",
      "The Odd elements are:\n",
      "25\n",
      "47\n"
     ]
    }
   ],
   "source": [
    "int[] numbers = { 25, 47, 42, 56, 32 };\n",
    "int n = numbers.Length;\n",
    "\n",
    "int[] evenArray = new int[n];\n",
    "int[] oddArray = new int[n];\n",
    "\n",
    "int evenCount = 0;\n",
    "int oddCount = 0;\n",
    "        \n",
    "    foreach (int num in numbers)\n",
    "    {\n",
    "    \n",
    "        if (num % 2 == 0)\n",
    "        {\n",
    "             evenArray[evenCount] = num;\n",
    "             evenCount++;\n",
    "        }\n",
    "    \n",
    "        else\n",
    "        {\n",
    "            oddArray[oddCount] = num;\n",
    "            oddCount++;\n",
    "        }\n",
    "    }\n",
    "\n",
    "Console.WriteLine(\"The Even elements are:\");\n",
    "    for (int i = 0; i < evenCount; i++)\n",
    "    {\n",
    "        Console.WriteLine(evenArray[i]);\n",
    "    }\n",
    "\n",
    "Console.WriteLine(\"The Odd elements are:\");\n",
    "    for (int i = 0; i < oddCount; i++)\n",
    "    {\n",
    "        Console.WriteLine(oddArray[i]);\n",
    "    }"
   ]
  },
  {
   "cell_type": "markdown",
   "id": "206fd95e",
   "metadata": {},
   "source": [
    "Question 5 C#\n",
    "a. Write a function inside(x,y,x1,y1,x2,y2) that returns True or False \n",
    "depending on whether the point (x,y) lies in the rectangle with lower left \n",
    "corner (x1,y1) and upper right corner (x2,y2)."
   ]
  },
  {
   "cell_type": "code",
   "execution_count": 19,
   "id": "7ac7d856",
   "metadata": {},
   "outputs": [
    {
     "name": "stdout",
     "output_type": "stream",
     "text": [
      "TRUE.\r\n"
     ]
    }
   ],
   "source": [
    "bool Inside(int x, int y, int x1, int y1, int x2, int y2)\n",
    "    {\n",
    "        return (x >= x1 && x <= x2 && y >= y1 && y <= y2);\n",
    "    }\n",
    "\n",
    "    {\n",
    "        int x = 1;\n",
    "        int y = 1;\n",
    "        int x1 = 0;\n",
    "        int y1 = 0;\n",
    "        int x2 = 2;\n",
    "        int y2 = 3;\n",
    "\n",
    "    bool isInside = Inside(x, y, x1, y1, x2, y2);\n",
    "\n",
    "        if (isInside)\n",
    "        {\n",
    "            Console.WriteLine($\"TRUE.\");\n",
    "        }\n",
    "        else\n",
    "        {\n",
    "            Console.WriteLine($\"FALSE.\");\n",
    "        }\n",
    "    }"
   ]
  },
  {
   "cell_type": "code",
   "execution_count": 20,
   "id": "888e8c1f",
   "metadata": {},
   "outputs": [
    {
     "name": "stdout",
     "output_type": "stream",
     "text": [
      "FALSE.\r\n"
     ]
    }
   ],
   "source": [
    "bool Inside(int x, int y, int x1, int y1, int x2, int y2)\n",
    "    {\n",
    "        return (x >= x1 && x <= x2 && y >= y1 && y <= y2);\n",
    "    }\n",
    "\n",
    "    {\n",
    "        int x = -1;\n",
    "        int y = -1;\n",
    "        int x1 = 0;\n",
    "        int y1 = 0;\n",
    "        int x2 = 2;\n",
    "        int y2 = 3;\n",
    "\n",
    "    bool isInside = Inside(x, y, x1, y1, x2, y2);\n",
    "\n",
    "        if (isInside)\n",
    "        {\n",
    "            Console.WriteLine($\"TRUE.\");\n",
    "        }\n",
    "        else\n",
    "        {\n",
    "            Console.WriteLine($\"FALSE.\");\n",
    "        }\n",
    "    }"
   ]
  },
  {
   "cell_type": "markdown",
   "id": "d507bb11",
   "metadata": {},
   "source": [
    "b. Use function inside() from part a. to write an expression that tests whether the point (1,1) lies in both of the following rectangles: one with lower left corner (0.3, 0.5) and upper right corner (1.1, 0.7) and the other with lower left corner (0.5, 0.2) and upper right corner (1.1, 2)."
   ]
  },
  {
   "cell_type": "code",
   "execution_count": 21,
   "id": "a3e00b34",
   "metadata": {},
   "outputs": [
    {
     "name": "stdout",
     "output_type": "stream",
     "text": [
      "FALSE.\r\n"
     ]
    }
   ],
   "source": [
    "bool Inside(double x, double y, double x1, double y1, double x2, double y2)\n",
    "    {\n",
    "        return (x >= x1 && x <= x2 && y >= y1 && y <= y2);\n",
    "    }\n",
    "\n",
    "    {\n",
    "        double x = 1;\n",
    "        double y = 1;\n",
    "\n",
    "        // Rectangle 1\n",
    "        double rect1X1 = 0.3;\n",
    "        double rect1Y1 = 0.5;\n",
    "        double rect1X2 = 1.1;\n",
    "        double rect1Y2 = 0.7;\n",
    "\n",
    "        // Rectangle 2\n",
    "        double rect2X1 = 0.5;\n",
    "        double rect2Y1 = 0.2;\n",
    "        double rect2X2 = 1.1;\n",
    "        double rect2Y2 = 2.0;\n",
    "\n",
    "\n",
    "    bool isInRectangle1 = Inside(x, y, rect1X1, rect1Y1, rect1X2, rect1Y2);\n",
    "    bool isInRectangle2 = Inside(x, y, rect2X1, rect2Y1, rect2X2, rect2Y2);\n",
    "\n",
    "        if (isInRectangle1 && isInRectangle2)\n",
    "        {\n",
    "            Console.WriteLine(\"TRUE.\");\n",
    "        }\n",
    "        else\n",
    "        {\n",
    "            Console.WriteLine(\"FALSE.\");\n",
    "        }\n",
    "    }"
   ]
  }
 ],
 "metadata": {
  "kernelspec": {
   "display_name": ".NET (C#)",
   "language": "C#",
   "name": ".net-csharp"
  },
  "language_info": {
   "file_extension": ".cs",
   "mimetype": "text/x-csharp",
   "name": "C#",
   "pygments_lexer": "csharp",
   "version": "11.0"
  }
 },
 "nbformat": 4,
 "nbformat_minor": 5
}
